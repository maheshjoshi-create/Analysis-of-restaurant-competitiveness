{
 "cells": [
  {
   "cell_type": "markdown",
   "metadata": {},
   "source": [
    "## Initial Import and Cleaning\n",
    "\n",
    "Since the Yelp business information is contained in a large JSON file, we will preprocess the data into a smaller file, for processing speed.\n",
    "\n",
    "* We remove businesses that are not restaurants, and any permanently closed businesses.\n",
    "* We combine the cities of Montréal and Montreal, removing the accent on the former.\n",
    "* We drop the address, neighborhood, and postal code information for now. We can use this later, especially for larger cities.\n",
    "* We also strip out geographical information and the hours and attributes. In the future, we may use this as well.\n",
    "* The trimmed data is saved to a new CSV file for analysis."
   ]
  },
  {
   "cell_type": "code",
   "execution_count": null,
   "metadata": {
    "collapsed": true
   },
   "outputs": [],
   "source": [
    "import pandas as pd\n",
    "import numpy as np\n",
    "\n",
    "# import raw data file\n",
    "df = pd.read_json('yelp_academic_dataset_business.json', lines=True)\n",
    "\n",
    "# remove permanently closed\n",
    "df = df[df['is_open'] == 1]\n",
    "df = df.drop(['is_open'], axis=1)\n",
    "\n",
    "# remove non restaurants\n",
    "df = df[df['categories'].apply(str).str.contains(\"Restaurants\")]\n",
    "\n",
    "# combine Montreal cities\n",
    "df['city'] = df['city'].replace(u'Montr\\xe9al', 'Montreal')\n",
    "\n",
    "# drop unnecessary columns for now\n",
    "df = df.drop(['address', 'neighborhood', 'postal_code', 'type'], axis=1)\n",
    "\n",
    "# strip latitude, longitude, hours, attributes for now too\n",
    "df = df.drop(['latitude', 'longitude', 'hours', 'attributes'], axis=1)\n",
    "\n",
    "# save cleaned data\n",
    "df.to_csv('cleaned.csv', index=False)"
   ]
  }
 ],
 "metadata": {
  "kernelspec": {
   "display_name": "Python 3",
   "language": "python",
   "name": "python3"
  },
  "language_info": {
   "codemirror_mode": {
    "name": "ipython",
    "version": 3
   },
   "file_extension": ".py",
   "mimetype": "text/x-python",
   "name": "python",
   "nbconvert_exporter": "python",
   "pygments_lexer": "ipython3",
   "version": "3.6.1"
  }
 },
 "nbformat": 4,
 "nbformat_minor": 2
}
